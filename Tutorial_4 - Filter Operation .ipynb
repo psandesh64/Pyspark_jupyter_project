{
 "cells": [
  {
   "cell_type": "markdown",
   "id": "310ac514-29a4-4339-a9cc-01e661483782",
   "metadata": {},
   "source": [
    "Pyspark Dataframes\n",
    "Filter operation\n",
    "&,|,==\n",
    "~"
   ]
  },
  {
   "cell_type": "code",
   "execution_count": 2,
   "id": "1be6ad68-c4a2-4be2-9688-a0628695f45d",
   "metadata": {},
   "outputs": [],
   "source": [
    "from pyspark.sql import SpartSession"
   ]
  },
  {
   "cell_type": "code",
   "execution_count": 3,
   "id": "551389ce-081c-4a94-b574-22d24eef314b",
   "metadata": {},
   "outputs": [],
   "source": [
    "spark=SparkSession.builder.appName('dataframe').getOrCreate()"
   ]
  },
  {
   "cell_type": "code",
   "execution_count": 4,
   "id": "4187d02f-0bf6-4fff-b660-19d984ac9d3f",
   "metadata": {},
   "outputs": [
    {
     "name": "stdout",
     "output_type": "stream",
     "text": [
      "+---------+---+----------+------+\n",
      "|     Name|Age|Experience|Salary|\n",
      "+---------+---+----------+------+\n",
      "|    Krish| 31|        10| 30000|\n",
      "|Sudhanshu| 25|         8| 25000|\n",
      "|  Sandesh| 28|         4| 20000|\n",
      "|    Sunny| 24|         3| 20000|\n",
      "|     Paul| 21|         1| 15000|\n",
      "|    Harsh| 23|         2| 18000|\n",
      "+---------+---+----------+------+\n",
      "\n"
     ]
    }
   ],
   "source": [
    "df_pyspark = spark.read.csv('test3.csv',header=True,inferSchema=True)\n",
    "df_pyspark.show()"
   ]
  },
  {
   "cell_type": "markdown",
   "id": "3580736d-f143-4483-9201-b7d36cc1583c",
   "metadata": {},
   "source": [
    "### Filter Operation"
   ]
  },
  {
   "cell_type": "code",
   "execution_count": 6,
   "id": "5cbb342a-2b50-4622-bafe-56b3e9ef7764",
   "metadata": {},
   "outputs": [
    {
     "name": "stdout",
     "output_type": "stream",
     "text": [
      "+-------+---+----------+------+\n",
      "|   Name|Age|Experience|Salary|\n",
      "+-------+---+----------+------+\n",
      "|Sandesh| 28|         4| 20000|\n",
      "|  Sunny| 24|         3| 20000|\n",
      "|   Paul| 21|         1| 15000|\n",
      "|  Harsh| 23|         2| 18000|\n",
      "+-------+---+----------+------+\n",
      "\n"
     ]
    }
   ],
   "source": [
    "### Salary of the people less than or equal to 20000\n",
    "df_pyspark.filter('Salary<=20000').show()"
   ]
  },
  {
   "cell_type": "code",
   "execution_count": 7,
   "id": "b23c2c50-7c86-4751-9ca4-3e0475c3dddd",
   "metadata": {},
   "outputs": [
    {
     "name": "stdout",
     "output_type": "stream",
     "text": [
      "+-------+---+\n",
      "|   Name|Age|\n",
      "+-------+---+\n",
      "|Sandesh| 28|\n",
      "|  Sunny| 24|\n",
      "|   Paul| 21|\n",
      "|  Harsh| 23|\n",
      "+-------+---+\n",
      "\n"
     ]
    }
   ],
   "source": [
    "df_pyspark.filter('Salary<=20000').select(['Name','Age']).show()"
   ]
  },
  {
   "cell_type": "code",
   "execution_count": 10,
   "id": "ac7603ab-82b6-48ab-8e94-80d1d3f2854f",
   "metadata": {},
   "outputs": [
    {
     "name": "stdout",
     "output_type": "stream",
     "text": [
      "+-------+---+----------+------+\n",
      "|   Name|Age|Experience|Salary|\n",
      "+-------+---+----------+------+\n",
      "|Sandesh| 28|         4| 20000|\n",
      "|  Sunny| 24|         3| 20000|\n",
      "|   Paul| 21|         1| 15000|\n",
      "|  Harsh| 23|         2| 18000|\n",
      "+-------+---+----------+------+\n",
      "\n"
     ]
    }
   ],
   "source": [
    "df_pyspark.filter(df_pyspark['Salary']<=20000).show()"
   ]
  },
  {
   "cell_type": "code",
   "execution_count": 12,
   "id": "b6fd4823-ee53-469c-9734-f0445d5eb42f",
   "metadata": {},
   "outputs": [
    {
     "name": "stdout",
     "output_type": "stream",
     "text": [
      "+-------+---+----------+------+\n",
      "|   Name|Age|Experience|Salary|\n",
      "+-------+---+----------+------+\n",
      "|Sandesh| 28|         4| 20000|\n",
      "|  Sunny| 24|         3| 20000|\n",
      "|  Harsh| 23|         2| 18000|\n",
      "+-------+---+----------+------+\n",
      "\n"
     ]
    }
   ],
   "source": [
    "df_pyspark.filter((df_pyspark['Salary']<=20000) & (df_pyspark['Salary']>=18000)).show()"
   ]
  },
  {
   "cell_type": "code",
   "execution_count": 13,
   "id": "8df6e8e3-71e7-4381-8913-1baa15848201",
   "metadata": {},
   "outputs": [
    {
     "name": "stdout",
     "output_type": "stream",
     "text": [
      "+---------+---+----------+------+\n",
      "|     Name|Age|Experience|Salary|\n",
      "+---------+---+----------+------+\n",
      "|    Krish| 31|        10| 30000|\n",
      "|Sudhanshu| 25|         8| 25000|\n",
      "|  Sandesh| 28|         4| 20000|\n",
      "|    Sunny| 24|         3| 20000|\n",
      "|     Paul| 21|         1| 15000|\n",
      "|    Harsh| 23|         2| 18000|\n",
      "+---------+---+----------+------+\n",
      "\n"
     ]
    }
   ],
   "source": [
    "df_pyspark.filter((df_pyspark['Salary']<=20000) | (df_pyspark['Salary']>=18000)).show()"
   ]
  },
  {
   "cell_type": "code",
   "execution_count": 17,
   "id": "f380cad1-d875-4507-9e0c-6ddfdb7bc7f4",
   "metadata": {},
   "outputs": [
    {
     "name": "stdout",
     "output_type": "stream",
     "text": [
      "+---------+---+----------+------+\n",
      "|     Name|Age|Experience|Salary|\n",
      "+---------+---+----------+------+\n",
      "|    Krish| 31|        10| 30000|\n",
      "|Sudhanshu| 25|         8| 25000|\n",
      "+---------+---+----------+------+\n",
      "\n"
     ]
    }
   ],
   "source": [
    "df_pyspark.filter(~(df_pyspark['Salary']<=20000)).show()"
   ]
  },
  {
   "cell_type": "code",
   "execution_count": null,
   "id": "a0245e48-253b-40f3-9e20-505f4148ffdb",
   "metadata": {},
   "outputs": [],
   "source": []
  },
  {
   "cell_type": "code",
   "execution_count": null,
   "id": "7eca5d86-b917-4906-825a-70bc77b09436",
   "metadata": {},
   "outputs": [],
   "source": []
  },
  {
   "cell_type": "code",
   "execution_count": null,
   "id": "95b88b81-791a-4c38-b502-1f9d517183af",
   "metadata": {},
   "outputs": [],
   "source": []
  }
 ],
 "metadata": {
  "kernelspec": {
   "display_name": "Python 3 (ipykernel)",
   "language": "python",
   "name": "python3"
  },
  "language_info": {
   "codemirror_mode": {
    "name": "ipython",
    "version": 3
   },
   "file_extension": ".py",
   "mimetype": "text/x-python",
   "name": "python",
   "nbconvert_exporter": "python",
   "pygments_lexer": "ipython3",
   "version": "3.12.0"
  }
 },
 "nbformat": 4,
 "nbformat_minor": 5
}
