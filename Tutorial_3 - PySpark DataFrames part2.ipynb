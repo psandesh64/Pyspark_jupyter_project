{
 "cells": [
  {
   "cell_type": "code",
   "execution_count": 2,
   "id": "19943201-b27a-4a7f-82a5-7276e254887c",
   "metadata": {},
   "outputs": [],
   "source": [
    "### Pyspark Handling Missing Values\n"
   ]
  },
  {
   "cell_type": "code",
   "execution_count": 3,
   "id": "534e01ce-9a40-4dae-b1f3-bb0e663dd5e8",
   "metadata": {},
   "outputs": [],
   "source": [
    "from pyspark.sql import SparkSession"
   ]
  },
  {
   "cell_type": "code",
   "execution_count": 4,
   "id": "4568ad55-f1e5-4510-96fa-cc33e1a9bd9d",
   "metadata": {},
   "outputs": [],
   "source": [
    "spark = SparkSession.builder.appName('Practice').getOrCreate()"
   ]
  },
  {
   "cell_type": "code",
   "execution_count": 7,
   "id": "6f9bc8d4-11b3-403e-b356-22a6e2ad6fe3",
   "metadata": {},
   "outputs": [],
   "source": [
    "df_pyspark=spark.read.csv('test2.csv',header=True,inferSchema=True)"
   ]
  },
  {
   "cell_type": "code",
   "execution_count": 8,
   "id": "38287eaa-f6a8-4fb7-b400-9ca4c773d372",
   "metadata": {},
   "outputs": [
    {
     "name": "stdout",
     "output_type": "stream",
     "text": [
      "+---------+----+----------+------+\n",
      "|     Name| Age|Experience|Salary|\n",
      "+---------+----+----------+------+\n",
      "|    Krish|  31|        10| 30000|\n",
      "|Sudhanshu|  25|         8| 25000|\n",
      "|  Sandesh|  28|         4| 20000|\n",
      "|    Sunny|  24|         3| 20000|\n",
      "|     Paul|  21|         1| 15000|\n",
      "|    Harsh|  23|         2| 18000|\n",
      "|   Shuvam|NULL|      NULL| 40000|\n",
      "|   Mahesh|  34|        10| 38000|\n",
      "|     NULL|  36|      NULL|  NULL|\n",
      "+---------+----+----------+------+\n",
      "\n"
     ]
    }
   ],
   "source": [
    "df_pyspark.show()"
   ]
  },
  {
   "cell_type": "code",
   "execution_count": 18,
   "id": "25197f9a-51a1-4425-9ff2-5738acdae958",
   "metadata": {},
   "outputs": [],
   "source": [
    "### drop the columns\n",
    "#  df_pyspark.drop('Name').show()"
   ]
  },
  {
   "cell_type": "code",
   "execution_count": 20,
   "id": "db1e7156-fe17-4516-a41e-1e9343f2fd37",
   "metadata": {},
   "outputs": [],
   "source": [
    "# df_pyspark.na.drop().show()"
   ]
  },
  {
   "cell_type": "code",
   "execution_count": 31,
   "id": "19614a32-acaa-4279-8d37-ca77417f1f25",
   "metadata": {},
   "outputs": [
    {
     "name": "stdout",
     "output_type": "stream",
     "text": [
      "+---------+----+----------+------+\n",
      "|     Name| Age|Experience|Salary|\n",
      "+---------+----+----------+------+\n",
      "|    Krish|  31|        10| 30000|\n",
      "|Sudhanshu|  25|         8| 25000|\n",
      "|  Sandesh|  28|         4| 20000|\n",
      "|    Sunny|  24|         3| 20000|\n",
      "|     Paul|  21|         1| 15000|\n",
      "|    Harsh|  23|         2| 18000|\n",
      "|   Shuvam|NULL|      NULL| 40000|\n",
      "|   Mahesh|  34|        10| 38000|\n",
      "|     NULL|  36|      NULL|  NULL|\n",
      "+---------+----+----------+------+\n",
      "\n"
     ]
    }
   ],
   "source": [
    "### how == all\n",
    "df_pyspark.na.drop(how='all').show()\n"
   ]
  },
  {
   "cell_type": "code",
   "execution_count": 33,
   "id": "2bb2fe19-5169-4e84-882b-bff91b12f3c2",
   "metadata": {},
   "outputs": [
    {
     "name": "stdout",
     "output_type": "stream",
     "text": [
      "+---------+---+----------+------+\n",
      "|     Name|Age|Experience|Salary|\n",
      "+---------+---+----------+------+\n",
      "|    Krish| 31|        10| 30000|\n",
      "|Sudhanshu| 25|         8| 25000|\n",
      "|  Sandesh| 28|         4| 20000|\n",
      "|    Sunny| 24|         3| 20000|\n",
      "|     Paul| 21|         1| 15000|\n",
      "|    Harsh| 23|         2| 18000|\n",
      "|   Mahesh| 34|        10| 38000|\n",
      "+---------+---+----------+------+\n",
      "\n"
     ]
    }
   ],
   "source": [
    "## how == any\n",
    "df_pyspark.na.drop(how='any').show()"
   ]
  },
  {
   "cell_type": "code",
   "execution_count": 34,
   "id": "04fe7aef-3607-4ffd-9709-b9b3fe4193bf",
   "metadata": {},
   "outputs": [
    {
     "name": "stdout",
     "output_type": "stream",
     "text": [
      "+---------+----+----------+------+\n",
      "|     Name| Age|Experience|Salary|\n",
      "+---------+----+----------+------+\n",
      "|    Krish|  31|        10| 30000|\n",
      "|Sudhanshu|  25|         8| 25000|\n",
      "|  Sandesh|  28|         4| 20000|\n",
      "|    Sunny|  24|         3| 20000|\n",
      "|     Paul|  21|         1| 15000|\n",
      "|    Harsh|  23|         2| 18000|\n",
      "|   Shuvam|NULL|      NULL| 40000|\n",
      "|   Mahesh|  34|        10| 38000|\n",
      "+---------+----+----------+------+\n",
      "\n"
     ]
    }
   ],
   "source": [
    "## threshold\n",
    "df_pyspark.na.drop(how='any',thresh=2).show()"
   ]
  },
  {
   "cell_type": "code",
   "execution_count": 35,
   "id": "62af960a-2f1d-4107-bb00-394e60469cfb",
   "metadata": {},
   "outputs": [
    {
     "name": "stdout",
     "output_type": "stream",
     "text": [
      "+---------+---+----------+------+\n",
      "|     Name|Age|Experience|Salary|\n",
      "+---------+---+----------+------+\n",
      "|    Krish| 31|        10| 30000|\n",
      "|Sudhanshu| 25|         8| 25000|\n",
      "|  Sandesh| 28|         4| 20000|\n",
      "|    Sunny| 24|         3| 20000|\n",
      "|     Paul| 21|         1| 15000|\n",
      "|    Harsh| 23|         2| 18000|\n",
      "|   Mahesh| 34|        10| 38000|\n",
      "+---------+---+----------+------+\n",
      "\n"
     ]
    }
   ],
   "source": [
    "## Subset\n",
    "df_pyspark.na.drop(how='any',subset=['Experience']).show()"
   ]
  },
  {
   "cell_type": "code",
   "execution_count": 42,
   "id": "dcdd70a2-7af0-4341-9f53-e059431482ff",
   "metadata": {},
   "outputs": [
    {
     "name": "stdout",
     "output_type": "stream",
     "text": [
      "+--------------+----+----------+------+\n",
      "|          Name| Age|Experience|Salary|\n",
      "+--------------+----+----------+------+\n",
      "|         Krish|  31|        10| 30000|\n",
      "|     Sudhanshu|  25|         8| 25000|\n",
      "|       Sandesh|  28|         4| 20000|\n",
      "|         Sunny|  24|         3| 20000|\n",
      "|          Paul|  21|         1| 15000|\n",
      "|         Harsh|  23|         2| 18000|\n",
      "|        Shuvam|NULL|      NULL| 40000|\n",
      "|        Mahesh|  34|        10| 38000|\n",
      "|Missing Values|  36|      NULL|  NULL|\n",
      "+--------------+----+----------+------+\n",
      "\n"
     ]
    }
   ],
   "source": [
    "## Filling the missing Values\n",
    "# df_pyspark.na.fill('Missing Values').show()\n",
    "df_pyspark.na.fill('Missing Values','Name').show()"
   ]
  },
  {
   "cell_type": "code",
   "execution_count": 44,
   "id": "3b0cd197-637e-4049-918d-60a1f35f362d",
   "metadata": {},
   "outputs": [
    {
     "name": "stdout",
     "output_type": "stream",
     "text": [
      "+---------+---+----------+------+\n",
      "|     Name|Age|Experience|Salary|\n",
      "+---------+---+----------+------+\n",
      "|    Krish| 31|        10| 30000|\n",
      "|Sudhanshu| 25|         8| 25000|\n",
      "|  Sandesh| 28|         4| 20000|\n",
      "|    Sunny| 24|         3| 20000|\n",
      "|     Paul| 21|         1| 15000|\n",
      "|    Harsh| 23|         2| 18000|\n",
      "|   Shuvam| 22|        22| 40000|\n",
      "|   Mahesh| 34|        10| 38000|\n",
      "|     NULL| 36|        22|  NULL|\n",
      "+---------+---+----------+------+\n",
      "\n"
     ]
    }
   ],
   "source": [
    "## filling specific columns\n",
    "df_pyspark.na.fill(22,['Experience','Age']).show()"
   ]
  },
  {
   "cell_type": "code",
   "execution_count": 51,
   "id": "336e284a-958e-4a96-b56b-33050f0be0b0",
   "metadata": {},
   "outputs": [],
   "source": [
    "from pyspark.ml.feature import Imputer\n",
    "\n",
    "imputer = Imputer(\n",
    "    inputCols=['Age','Experience','Salary'],\n",
    "    outputCols=[\"{}_imputed\".format(c) for c in ['Age','Experience','Salary']]\n",
    "    ).setStrategy(\"mean\")"
   ]
  },
  {
   "cell_type": "code",
   "execution_count": 52,
   "id": "211783da-1978-4cf0-8324-541cd308de3d",
   "metadata": {},
   "outputs": [
    {
     "name": "stdout",
     "output_type": "stream",
     "text": [
      "+---------+----+----------+------+-----------+------------------+--------------+\n",
      "|     Name| Age|Experience|Salary|Age_imputed|Experience_imputed|Salary_imputed|\n",
      "+---------+----+----------+------+-----------+------------------+--------------+\n",
      "|    Krish|  31|        10| 30000|         31|                10|         30000|\n",
      "|Sudhanshu|  25|         8| 25000|         25|                 8|         25000|\n",
      "|  Sandesh|  28|         4| 20000|         28|                 4|         20000|\n",
      "|    Sunny|  24|         3| 20000|         24|                 3|         20000|\n",
      "|     Paul|  21|         1| 15000|         21|                 1|         15000|\n",
      "|    Harsh|  23|         2| 18000|         23|                 2|         18000|\n",
      "|   Shuvam|NULL|      NULL| 40000|         27|                 5|         40000|\n",
      "|   Mahesh|  34|        10| 38000|         34|                10|         38000|\n",
      "|     NULL|  36|      NULL|  NULL|         36|                 5|         25750|\n",
      "+---------+----+----------+------+-----------+------------------+--------------+\n",
      "\n"
     ]
    }
   ],
   "source": [
    "# Add imputation cols to df\n",
    "imputer.fit(df_pyspark).transform(df_pyspark).show()"
   ]
  },
  {
   "cell_type": "code",
   "execution_count": null,
   "id": "e032a133-d49c-4f0e-9f59-0409ec19a06f",
   "metadata": {},
   "outputs": [],
   "source": []
  }
 ],
 "metadata": {
  "kernelspec": {
   "display_name": "Python 3 (ipykernel)",
   "language": "python",
   "name": "python3"
  },
  "language_info": {
   "codemirror_mode": {
    "name": "ipython",
    "version": 3
   },
   "file_extension": ".py",
   "mimetype": "text/x-python",
   "name": "python",
   "nbconvert_exporter": "python",
   "pygments_lexer": "ipython3",
   "version": "3.12.0"
  }
 },
 "nbformat": 4,
 "nbformat_minor": 5
}
